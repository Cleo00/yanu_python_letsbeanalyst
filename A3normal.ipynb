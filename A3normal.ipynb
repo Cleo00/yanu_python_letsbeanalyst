{
  "nbformat": 4,
  "nbformat_minor": 0,
  "metadata": {
    "colab": {
      "provenance": [],
      "include_colab_link": true
    },
    "kernelspec": {
      "name": "python3",
      "display_name": "Python 3"
    },
    "language_info": {
      "name": "python"
    }
  },
  "cells": [
    {
      "cell_type": "markdown",
      "metadata": {
        "id": "view-in-github",
        "colab_type": "text"
      },
      "source": [
        "<a href=\"https://colab.research.google.com/github/Cleo00/yanu_python_letsbeanalyst/blob/main/A3normal.ipynb\" target=\"_parent\"><img src=\"https://colab.research.google.com/assets/colab-badge.svg\" alt=\"Open In Colab\"/></a>"
      ]
    },
    {
      "cell_type": "markdown",
      "source": [],
      "metadata": {
        "id": "he3UDJ0Uk9Nf"
      }
    },
    {
      "cell_type": "markdown",
      "source": [
        "# 3. Conditional & Control Flow\n",
        "\n",
        "### Introduction\n",
        "\n",
        "This assignment aims to test and strengthen your understanding of control flow in Python. You will solve a series of problems and answer multiple-choice questions to demonstrate your knowledge.\n",
        "\n",
        "### Section 1: Problem-Solving Questions\n",
        "\n",
        "### 1. Conditional Statements\n",
        "\n",
        "1. Write a program that checks if a number is positive, negative, or zero.\n",
        "2. Create a program that determines if a person is eligible to vote based on their age.\n",
        "3. Write a program that prints \"Odd\" if a number is odd and \"Even\" if it is even.\n",
        "4. Create a program that assigns a grade (A, B, C, D, F) based on a score out of 100.\n",
        "5. Write a program that checks if a year is a leap year.\n",
        "6. Create a program that takes two numbers and prints the larger one.\n",
        "7. Write a program that checks if a given string is a palindrome, `Don’t use any loop`\n",
        "8. Create a program that categorizes a person's age into \"Child\", \"Teenager\", \"Adult\", or \"Senior\", `using if statement`\n",
        "9. Write a program that determines if a number is divisible by both 3 and 5.\n",
        "10. Create a program that checks if a character is a vowel or a consonant."
      ],
      "metadata": {
        "id": "pdPykhW7k_AV"
      }
    },
    {
      "cell_type": "code",
      "source": [
        "#1.1\n",
        "a = int(input(\"Enter a number: \"))\n",
        "if a > 0:\n",
        "  print(f\"the entered number is positive\")\n",
        "elif a < 0:\n",
        "  print(f\"the entered number is negative\")\n",
        "else:\n",
        "  print (f\"the entered number is zero\")"
      ],
      "metadata": {
        "colab": {
          "base_uri": "https://localhost:8080/"
        },
        "id": "xks7ISSVk9nh",
        "outputId": "1686f059-4f9a-447c-ae6f-8c75c13dbd84"
      },
      "execution_count": null,
      "outputs": [
        {
          "output_type": "stream",
          "name": "stdout",
          "text": [
            "Enter a number: 9\n",
            "the entered number is positive\n"
          ]
        }
      ]
    },
    {
      "cell_type": "code",
      "source": [
        "#1.2\n",
        "age = int(input(\"Enter your age: \"))\n",
        "if age >= 18:\n",
        "  print(\"You are eligible to vote\")\n",
        "else:\n",
        "  print(\"You are not eligible to vote\")"
      ],
      "metadata": {
        "colab": {
          "base_uri": "https://localhost:8080/"
        },
        "id": "CDuONyrYmTlD",
        "outputId": "b3319a35-4d43-47a2-f7a7-22bf872934d6"
      },
      "execution_count": null,
      "outputs": [
        {
          "output_type": "stream",
          "name": "stdout",
          "text": [
            "Enter your age: 0\n",
            "You are not eligible to vote\n"
          ]
        }
      ]
    },
    {
      "cell_type": "code",
      "source": [
        "a = int(input(\"Enter a number:\"))\n",
        "if a % 2 == 0:\n",
        "  print(f\"{a} is even\")\n",
        "else:\n",
        "  print(f\"{a} is odd\")"
      ],
      "metadata": {
        "colab": {
          "base_uri": "https://localhost:8080/"
        },
        "id": "9YXjOZUEmniI",
        "outputId": "0b965038-dc84-4012-cc5e-19b8afb04485"
      },
      "execution_count": null,
      "outputs": [
        {
          "output_type": "stream",
          "name": "stdout",
          "text": [
            "Enter a number:-9\n",
            "-9 is odd\n"
          ]
        }
      ]
    },
    {
      "cell_type": "code",
      "source": [
        "a = int(input(\"Enter score: \"))\n",
        "if a >= 90:\n",
        "  print(\"A grade\")\n",
        "elif a >= 80:\n",
        "  print(\"B grade\")\n",
        "elif a >= 60:\n",
        "  print(\"C grade\")\n",
        "elif a >= 40:\n",
        "  print(\"D grade\")\n",
        "else:\n",
        "  print(\"F grade\")"
      ],
      "metadata": {
        "colab": {
          "base_uri": "https://localhost:8080/"
        },
        "id": "HhE5-rhrn4uJ",
        "outputId": "08050462-e817-49ee-96b3-4c9964ff769e"
      },
      "execution_count": null,
      "outputs": [
        {
          "output_type": "stream",
          "name": "stdout",
          "text": [
            "Enter score: 99\n",
            "A grade\n"
          ]
        }
      ]
    },
    {
      "cell_type": "code",
      "source": [
        "a = int(input(\"Enter a year: \"))\n",
        "if (a % 100 == 0) and (a % 400 == 0):\n",
        "  print(f\"{a} is a leap year\")\n",
        "elif (a % 100 != 0) and (a % 4 == 0):\n",
        "  print(f\"{a} is a leap year\")\n",
        "else:\n",
        "  print(f\"{a} is not a leap year\")"
      ],
      "metadata": {
        "colab": {
          "base_uri": "https://localhost:8080/"
        },
        "id": "Pxg4Iui7pUoF",
        "outputId": "40acc5f2-eb09-4649-8129-eead9887c182"
      },
      "execution_count": null,
      "outputs": [
        {
          "output_type": "stream",
          "name": "stdout",
          "text": [
            "Enter a year: 94\n",
            "94 is not a leap year\n"
          ]
        }
      ]
    },
    {
      "cell_type": "code",
      "source": [
        "a = int(input(\"Enter a number:\"))\n",
        "b = int(input(\"Enter another number: \"))\n",
        "if a > b:\n",
        "  print(f\"{a} is the larger number\")\n",
        "elif a == b:\n",
        "  print(\"Both are same\")\n",
        "else:\n",
        "  print(f\"{b} is the larger number\")"
      ],
      "metadata": {
        "colab": {
          "base_uri": "https://localhost:8080/"
        },
        "id": "99dpptXNp_kt",
        "outputId": "e39d2d6e-8527-433f-fe25-fd4dde72f7b7"
      },
      "execution_count": null,
      "outputs": [
        {
          "output_type": "stream",
          "name": "stdout",
          "text": [
            "Enter a number:8\n",
            "Enter another number: -9\n",
            "8 is the larger number\n"
          ]
        }
      ]
    },
    {
      "cell_type": "code",
      "source": [
        "a = input(\"Enter here:\")\n",
        "a = a.lower()\n",
        "b = a[::-1]\n",
        "if a == b:\n",
        "  print(\"Palindrome\")\n",
        "else:\n",
        "  print(\"Not a palindrome\")"
      ],
      "metadata": {
        "colab": {
          "base_uri": "https://localhost:8080/"
        },
        "id": "XFTq50EGrnMn",
        "outputId": "cb56497a-ca3d-4096-e95c-d37aee4d5ac1"
      },
      "execution_count": null,
      "outputs": [
        {
          "output_type": "stream",
          "name": "stdout",
          "text": [
            "Enter here:malayalam\n",
            "Palindrome\n"
          ]
        }
      ]
    },
    {
      "cell_type": "code",
      "source": [
        "a = int(input(\"Enter your age: \"))\n",
        "if a < 12:\n",
        "  print(\"Child\")\n",
        "elif a >= 12 and a < 19:\n",
        "  print(\"Teenager\")\n",
        "elif a >= 19 and a < 40:\n",
        "  print(\"Adult\")\n",
        "else:\n",
        "  print(\"Senior\")"
      ],
      "metadata": {
        "colab": {
          "base_uri": "https://localhost:8080/"
        },
        "id": "xepk3x25xSDS",
        "outputId": "554e9c3b-38a5-48b3-bb32-12bf6ee58aff"
      },
      "execution_count": null,
      "outputs": [
        {
          "output_type": "stream",
          "name": "stdout",
          "text": [
            "Enter your age: 65\n",
            "Senior\n"
          ]
        }
      ]
    },
    {
      "cell_type": "code",
      "source": [
        "a = int(input(\"Enter a number: \"))\n",
        "if (a % 3 == 0) and (a % 5 == 0):\n",
        "  print(f\"{a} is divisible by both 3 and 5\")\n",
        "else:\n",
        "  print(f\"{a} is not divisible by both 3 and 5\")"
      ],
      "metadata": {
        "colab": {
          "base_uri": "https://localhost:8080/"
        },
        "id": "ToQ2wGGXyC77",
        "outputId": "eee1ed1c-78ed-4dc2-cea3-ee7bab262283"
      },
      "execution_count": null,
      "outputs": [
        {
          "output_type": "stream",
          "name": "stdout",
          "text": [
            "Enter a number: 7\n",
            "7 is not divisible by both 3 and 5\n"
          ]
        }
      ]
    },
    {
      "cell_type": "code",
      "source": [
        "vowels = ['a','e','i','o','u']\n",
        "a = input(\"Enter here:\")\n",
        "a = a.lower()\n",
        "if a in vowels:\n",
        "  print(f\"{a} is a vowel\")\n",
        "else:\n",
        "  print(f\"{a} is a consonent\")\n"
      ],
      "metadata": {
        "colab": {
          "base_uri": "https://localhost:8080/"
        },
        "id": "YeWqyN34yWA7",
        "outputId": "677022c2-c52b-490c-8149-700b99bf5995"
      },
      "execution_count": null,
      "outputs": [
        {
          "output_type": "stream",
          "name": "stdout",
          "text": [
            "Enter here:O\n",
            "o is a vowel\n"
          ]
        }
      ]
    },
    {
      "cell_type": "markdown",
      "source": [
        "### 2. Loops\n",
        "\n",
        "1. Write a program that prints numbers from 1 to 10 using a `for` loop.\n",
        "2. Create a program that prints the first 10 even numbers using a `while` loop.\n",
        "3. Write a program that calculates the sum of numbers from 1 to 100 using a `for` loop.\n",
        "4. Create a program that calculates the factorial of a number using a `while` loop.\n",
        "5. Write a program that prints each character of a string using a `for` loop.\n",
        "6. Create a program that prints numbers from 10 to 1 using a `while` loop.\n",
        "7. Write a program that prints the multiplication table of 5 using a `for` loop.\n",
        "8. Create a program that calculates the sum of all odd numbers between 1 and 50 using a `for` loop.\n",
        "9. Write a program that takes a list of numbers and prints only the positive ones using a `for` loop.\n",
        "10. Create a program that prints the Fibonacci sequence up to the 10th term using a `while` loop.\n",
        "    \n",
        "    > *The Fibonacci series is a sequence of numbers where each number is the sum of the two preceding ones, usually starting with 0 and 1. This sequence is named after Italian mathematician Leonardo of Pisa, known as Fibonacci.*\n",
        "    >"
      ],
      "metadata": {
        "id": "CXkr32J4zSmo"
      }
    },
    {
      "cell_type": "code",
      "source": [
        "for i in range(1,11,1):\n",
        "  print(i)"
      ],
      "metadata": {
        "colab": {
          "base_uri": "https://localhost:8080/"
        },
        "id": "Py7CS63JzceY",
        "outputId": "778f82cc-a969-4110-f5ba-3f02369a4190"
      },
      "execution_count": null,
      "outputs": [
        {
          "output_type": "stream",
          "name": "stdout",
          "text": [
            "1\n",
            "2\n",
            "3\n",
            "4\n",
            "5\n",
            "6\n",
            "7\n",
            "8\n",
            "9\n",
            "10\n"
          ]
        }
      ]
    },
    {
      "cell_type": "code",
      "source": [
        "num = 0\n",
        "while num < 20:\n",
        "  print(num)\n",
        "  num = num + 2"
      ],
      "metadata": {
        "colab": {
          "base_uri": "https://localhost:8080/"
        },
        "id": "oA2BMeilpbG_",
        "outputId": "1a01793b-6ed3-4322-bfa3-b05d83297557"
      },
      "execution_count": null,
      "outputs": [
        {
          "output_type": "stream",
          "name": "stdout",
          "text": [
            "0\n",
            "2\n",
            "4\n",
            "6\n",
            "8\n",
            "10\n",
            "12\n",
            "14\n",
            "16\n",
            "18\n"
          ]
        }
      ]
    },
    {
      "cell_type": "code",
      "source": [
        "#Write a program that calculates the sum of numbers from 1 to 100 using a for loop.\n",
        "a = 100\n",
        "b = 0\n",
        "for i in range(a + 1):\n",
        "  b = b + i\n",
        "print(b)"
      ],
      "metadata": {
        "colab": {
          "base_uri": "https://localhost:8080/"
        },
        "id": "IAa3ETn-qLvO",
        "outputId": "4db7298d-f4a6-42a0-cf74-3b419d7aac25"
      },
      "execution_count": null,
      "outputs": [
        {
          "output_type": "stream",
          "name": "stdout",
          "text": [
            "5050\n"
          ]
        }
      ]
    },
    {
      "cell_type": "code",
      "source": [
        "#Create a program that calculates the factorial of a number using a while loop.\n",
        "a = int(input(\"Enter a number:\"))\n",
        "b = 1\n",
        "for i in range(1, a + 1):\n",
        "  b = b * i\n",
        "print(b)"
      ],
      "metadata": {
        "colab": {
          "base_uri": "https://localhost:8080/"
        },
        "id": "rqgrYZ2OtIsj",
        "outputId": "6e215e47-f81f-4960-f3ba-4617173671a0"
      },
      "execution_count": null,
      "outputs": [
        {
          "output_type": "stream",
          "name": "stdout",
          "text": [
            "Enter a number:3\n",
            "6\n"
          ]
        }
      ]
    },
    {
      "cell_type": "code",
      "source": [
        "#Write a program that prints each character of a string using a for loop.\n",
        "a = input(\"Enter here: \")\n",
        "for i in a:\n",
        "  print(i)"
      ],
      "metadata": {
        "colab": {
          "base_uri": "https://localhost:8080/"
        },
        "id": "q91dGTpPus--",
        "outputId": "d29b8412-e900-4136-c620-cfd1f8600db3"
      },
      "execution_count": null,
      "outputs": [
        {
          "output_type": "stream",
          "name": "stdout",
          "text": [
            "Enter here: water\n",
            "w\n",
            "a\n",
            "t\n",
            "e\n",
            "r\n"
          ]
        }
      ]
    },
    {
      "cell_type": "code",
      "source": [
        "#Create a program that prints numbers from 10 to 1 using a while loop.\n",
        "num = 10\n",
        "while num >= 1:\n",
        "  print(num)\n",
        "  num = num - 1"
      ],
      "metadata": {
        "colab": {
          "base_uri": "https://localhost:8080/"
        },
        "id": "qPhl9rlivALL",
        "outputId": "da8fb248-4fc8-4029-8218-429cdcc22328"
      },
      "execution_count": null,
      "outputs": [
        {
          "output_type": "stream",
          "name": "stdout",
          "text": [
            "10\n",
            "9\n",
            "8\n",
            "7\n",
            "6\n",
            "5\n",
            "4\n",
            "3\n",
            "2\n",
            "1\n"
          ]
        }
      ]
    },
    {
      "cell_type": "code",
      "source": [
        "#Write a program that prints the multiplication table of 5 using a for loop.\n",
        "for i in range(1,11):\n",
        "  print(i * 5)\n",
        "'''or\n",
        "for i in range(0, 51, 5):\n",
        "  print(i)'';"
      ],
      "metadata": {
        "colab": {
          "base_uri": "https://localhost:8080/"
        },
        "id": "YuukW56PwJqk",
        "outputId": "f8e95b32-1517-470c-a8d5-605bfd88265b"
      },
      "execution_count": null,
      "outputs": [
        {
          "output_type": "stream",
          "name": "stdout",
          "text": [
            "5\n",
            "10\n",
            "15\n",
            "20\n",
            "25\n",
            "30\n",
            "35\n",
            "40\n",
            "45\n",
            "50\n"
          ]
        }
      ]
    },
    {
      "cell_type": "code",
      "source": [
        "#Create a program that calculates the sum of all odd numbers between 1 and 50 using a for loop.\n",
        "num = 100\n",
        "sum = 0\n",
        "for i in range(2, num):\n",
        "  if i % 2 != 0:\n",
        "    sum = sum + i\n",
        "print(sum)"
      ],
      "metadata": {
        "colab": {
          "base_uri": "https://localhost:8080/"
        },
        "id": "jY-prlP4wqB8",
        "outputId": "1508004f-f278-4ab4-f476-e62894cdbc00"
      },
      "execution_count": null,
      "outputs": [
        {
          "output_type": "stream",
          "name": "stdout",
          "text": [
            "2499\n"
          ]
        }
      ]
    },
    {
      "cell_type": "code",
      "source": [
        "#Write a program that takes a list of numbers and prints only the positive ones using a for loop.\n",
        "numbers = list(map(int, input(\"Enter numbers separated by space: \").split()))\n",
        "\n",
        "for i in numbers:\n",
        "  if i > 0:\n",
        "    print(i)\n",
        ""
      ],
      "metadata": {
        "colab": {
          "base_uri": "https://localhost:8080/"
        },
        "id": "zxgb7wqv3NGb",
        "outputId": "1d686b57-4527-433a-cacc-d2f808c6b910"
      },
      "execution_count": 7,
      "outputs": [
        {
          "output_type": "stream",
          "name": "stdout",
          "text": [
            "Enter numbers separated by space: -3 8 4 7 -4 \n",
            "8\n",
            "4\n",
            "7\n"
          ]
        }
      ]
    },
    {
      "cell_type": "code",
      "source": [
        "#Create a program that prints the Fibonacci sequence up to the 10th term using a while loop.\n",
        "#\"The Fibonacci series is a sequence of numbers where each number is the sum of the two preceding ones, usually starting with 0 and 1. This sequence is named after Italian mathematician Leonardo of Pisa, known as Fibonacci.\"\n",
        "a = 0\n",
        "b = 1\n",
        "'''count = 0\n",
        "while count < 10:\n",
        "  print(a)\n",
        "  a,b = b,a+b\n",
        "  count += 1'''\n",
        "\n",
        "for i in range(0,10):\n",
        "  print(a)\n",
        "  a,b = b,a+b\n",
        "\n",
        ""
      ],
      "metadata": {
        "id": "kIkqDyI993e2",
        "colab": {
          "base_uri": "https://localhost:8080/"
        },
        "outputId": "54d39fcf-6f34-405d-9a6f-08b18bf825f2"
      },
      "execution_count": 10,
      "outputs": [
        {
          "output_type": "stream",
          "name": "stdout",
          "text": [
            "0\n",
            "1\n",
            "1\n",
            "2\n",
            "3\n",
            "5\n",
            "8\n",
            "13\n",
            "21\n",
            "34\n"
          ]
        }
      ]
    },
    {
      "cell_type": "markdown",
      "source": [
        "### 3. Break and Continue Statements\n",
        "\n",
        "1. Write a program that prints numbers from 1 to 10 but stops if it encounters a number greater than 5.\n",
        "2. Create a program that prints numbers from 1 to 10 but skips the number 5.\n",
        "3. Write a program that takes a list of numbers and prints each number until it encounters a negative number.\n",
        "4. Create a program that prints the first 5 multiples of 3 using a loop and the `continue` statement.\n",
        "5. Write a program that prints numbers from 1 to 10 but stops if it encounters a number divisible by 4.\n",
        "6. Create a program that prints each character of a string but skips spaces using the `continue` statement.\n",
        "7. Write a program that takes a list of numbers and prints only the positive ones using the `continue` statement.\n",
        "8. Create a program that prints numbers from 1 to 10 but stops if it encounters an even number.\n",
        "9. Write a program that calculates the sum of numbers from 1 to 10 but skips numbers divisible by 3 using the `continue` statement.\n",
        "10. Create a program that prints each character of a string but stops if it encounters the letter 'a'."
      ],
      "metadata": {
        "id": "xxRGZyWJ-jZ7"
      }
    },
    {
      "cell_type": "code",
      "source": [
        "#Write a program that prints numbers from 1 to 10 but stops if it encounters a number greater than 5.\n",
        "for i in range(1,11,1):\n",
        "  if i > 5:\n",
        "    break\n",
        "  print(i)\n"
      ],
      "metadata": {
        "colab": {
          "base_uri": "https://localhost:8080/"
        },
        "id": "h5Yqy0es-lL3",
        "outputId": "a2288f88-d292-4796-9d8c-4fa71ca61cf8"
      },
      "execution_count": null,
      "outputs": [
        {
          "output_type": "stream",
          "name": "stdout",
          "text": [
            "1\n",
            "2\n",
            "3\n",
            "4\n",
            "5\n"
          ]
        }
      ]
    },
    {
      "cell_type": "code",
      "source": [
        "#Create a program that prints numbers from 1 to 10 but skips the number 5.\n",
        "for i in range(1,11,1):\n",
        "  if i == 5:\n",
        "    continue\n",
        "  print(i)"
      ],
      "metadata": {
        "colab": {
          "base_uri": "https://localhost:8080/"
        },
        "id": "EWpAo2DW-42H",
        "outputId": "70b3d52d-50dd-48f9-8161-bc1206a65954"
      },
      "execution_count": null,
      "outputs": [
        {
          "output_type": "stream",
          "name": "stdout",
          "text": [
            "1\n",
            "2\n",
            "3\n",
            "4\n",
            "6\n",
            "7\n",
            "8\n",
            "9\n",
            "10\n"
          ]
        }
      ]
    },
    {
      "cell_type": "code",
      "source": [
        "#Write a program that takes a list of numbers and prints each number until it encounters a negative number.\n",
        "numbers = list(map(int, input(\"Enter numbers separated by space: \").split()))\n",
        "for i in numbers:\n",
        "  if i < 0:\n",
        "    break\n",
        "  print(i)\n"
      ],
      "metadata": {
        "id": "yAuytpbsAlZe",
        "colab": {
          "base_uri": "https://localhost:8080/"
        },
        "outputId": "f149a9d5-7829-43ab-eff5-20738b083d73"
      },
      "execution_count": 12,
      "outputs": [
        {
          "output_type": "stream",
          "name": "stdout",
          "text": [
            "Enter numbers separated by space: 4 3 6 -2 -4 4 2\n",
            "4\n",
            "3\n",
            "6\n"
          ]
        }
      ]
    },
    {
      "cell_type": "code",
      "source": [
        "#Create a program that prints the first 5 multiples of 3 using a loop and the continue statement.\n",
        "for i in range(1,6):\n",
        "  i = i * 3\n",
        "  print(i)"
      ],
      "metadata": {
        "colab": {
          "base_uri": "https://localhost:8080/"
        },
        "id": "CeODvV92BbTJ",
        "outputId": "c9fdf332-04ab-42a0-f221-6317c7a00723"
      },
      "execution_count": null,
      "outputs": [
        {
          "output_type": "stream",
          "name": "stdout",
          "text": [
            "3\n",
            "6\n",
            "9\n",
            "12\n",
            "15\n"
          ]
        }
      ]
    },
    {
      "cell_type": "code",
      "source": [
        "#Write a program that prints numbers from 1 to 10 but stops if it encounters a number divisible by 4.\n",
        "for i in range(1,11,1):\n",
        "  if i % 4 == 0:\n",
        "    break\n",
        "  print(i)"
      ],
      "metadata": {
        "colab": {
          "base_uri": "https://localhost:8080/"
        },
        "id": "kRyjipfvBvCy",
        "outputId": "1c565349-3540-44c7-835c-b5b4854e776f"
      },
      "execution_count": null,
      "outputs": [
        {
          "output_type": "stream",
          "name": "stdout",
          "text": [
            "1\n",
            "2\n",
            "3\n"
          ]
        }
      ]
    },
    {
      "cell_type": "code",
      "source": [
        "#Create a program that prints each character of a string but skips spaces using the continue statement.\n",
        "a = input(\"Enter here: \")\n",
        "for i in a:\n",
        "  if i == \" \":\n",
        "    continue\n",
        "  print(i)"
      ],
      "metadata": {
        "colab": {
          "base_uri": "https://localhost:8080/"
        },
        "id": "dzuEXvVJCBA_",
        "outputId": "b5ce1210-10cd-4fb9-fa91-fba6442d7df8"
      },
      "execution_count": null,
      "outputs": [
        {
          "output_type": "stream",
          "name": "stdout",
          "text": [
            "Enter here: sedefg kuhfg 79\n",
            "s\n",
            "e\n",
            "d\n",
            "e\n",
            "f\n",
            "g\n",
            "k\n",
            "u\n",
            "h\n",
            "f\n",
            "g\n",
            "7\n",
            "9\n"
          ]
        }
      ]
    },
    {
      "cell_type": "code",
      "source": [
        "#Write a program that takes a list of numbers and prints only the positive ones using the continue statement.\n",
        "numbers = list(map(int, input(\"Enter numbers separated by space: \").split()))\n",
        "for i in numbers:\n",
        "  if i < 0:\n",
        "    continue\n",
        "  print(i)"
      ],
      "metadata": {
        "colab": {
          "base_uri": "https://localhost:8080/"
        },
        "id": "-cHOqqXzCcH1",
        "outputId": "e1f5b230-e9d1-4dc8-9953-c7ee49778fc5"
      },
      "execution_count": 14,
      "outputs": [
        {
          "output_type": "stream",
          "name": "stdout",
          "text": [
            "Enter numbers separated by space: 7 9 5 -9 6 4\n",
            "7\n",
            "9\n",
            "5\n",
            "6\n",
            "4\n"
          ]
        }
      ]
    },
    {
      "cell_type": "code",
      "source": [
        "#Create a program that prints numbers from 1 to 10 but stops if it encounters an even number.\n",
        "for i in range(1,11,1):\n",
        "  if i % 2 == 0:\n",
        "    break\n",
        "  print(i)"
      ],
      "metadata": {
        "colab": {
          "base_uri": "https://localhost:8080/"
        },
        "id": "rGnXDTx-Dhth",
        "outputId": "ca64b69f-1367-45b1-d02f-b5319f568875"
      },
      "execution_count": null,
      "outputs": [
        {
          "output_type": "stream",
          "name": "stdout",
          "text": [
            "1\n"
          ]
        }
      ]
    },
    {
      "cell_type": "code",
      "source": [
        "#Write a program that calculates the sum of numbers from 1 to 10 but skips numbers divisible by 3 using the continue statement.\n",
        "num = 10\n",
        "sum = 0\n",
        "for i in range(1, num + 1):\n",
        "  sum = sum + i\n",
        "  if i % 3 == 0:\n",
        "    continue\n",
        "  print(i)"
      ],
      "metadata": {
        "colab": {
          "base_uri": "https://localhost:8080/"
        },
        "id": "44wmHpa8Dx2P",
        "outputId": "036d73eb-abe9-4fea-a18f-96be1acd354b"
      },
      "execution_count": null,
      "outputs": [
        {
          "output_type": "stream",
          "name": "stdout",
          "text": [
            "1\n",
            "2\n",
            "4\n",
            "5\n",
            "7\n",
            "8\n",
            "10\n"
          ]
        }
      ]
    },
    {
      "cell_type": "code",
      "source": [
        "#Create a program that prints each character of a string but stops if it encounters the letter 'a'.\n",
        "a = input(\"Enter here: \")\n",
        "for i in a:\n",
        "  if i == \"a\":\n",
        "    break\n",
        "  print(i)"
      ],
      "metadata": {
        "colab": {
          "base_uri": "https://localhost:8080/"
        },
        "id": "wPT7wzb0EWrZ",
        "outputId": "5fe64227-d2ff-42dc-e093-b6887d7c7c1e"
      },
      "execution_count": null,
      "outputs": [
        {
          "output_type": "stream",
          "name": "stdout",
          "text": [
            "Enter here: jhfxghasjghbeab\n",
            "j\n",
            "h\n",
            "f\n",
            "x\n",
            "g\n",
            "h\n"
          ]
        }
      ]
    },
    {
      "cell_type": "markdown",
      "source": [
        "### Section 2: Multiple-Choice Questions\n",
        "\n",
        "1. Which statement is used to execute code based on a condition?\n",
        "    - b) if\n",
        "2. What is the output of the following code?\n",
        "    \n",
        "    ```python\n",
        "    x = 5\n",
        "    if x > 0:\n",
        "        print(\"Positive\")\n",
        "    \n",
        "    ```\n",
        "    \n",
        "    - a) Positive\n",
        "3. Which loop is used to iterate over a sequence of elements?\n",
        "    - b) for\n",
        "\n",
        "4. What is the purpose of the break statement?\n",
        "    - b) To stop the loop\n",
        "\n",
        "5. What is the output of the following code?\n",
        "    \n",
        "    ```python\n",
        "    for i in range(5):\n",
        "        if i == 3:\n",
        "            break\n",
        "        print(i)\n",
        "    \n",
        "    ```\n",
        "    \n",
        "    - b) 0 1 2\n",
        "6. Which statement is used to skip the current iteration of a loop?\n",
        "    - d) continue\n",
        "7. What is the output of the following code?\n",
        "    \n",
        "    ```python\n",
        "    i = 0\n",
        "    while i < 5:\n",
        "        if i == 2:\n",
        "            i += 1\n",
        "            continue\n",
        "        print(i)\n",
        "        i += 1\n",
        "    \n",
        "    ```\n",
        "    \n",
        "    - b) 0 1 3 4\n",
        "8. Which of the following is a conditional statement?\n",
        "    - c) if\n",
        "\n",
        "9. What is the purpose of the `else` statement in a loop?\n",
        "    - b) To execute code if the loop completes normally\n",
        "\n",
        "10. What is the output of the following code?\n",
        "    \n",
        "    ```python\n",
        "    for i in range(3):\n",
        "        print(i)\n",
        "    else:\n",
        "        print(\"Done\")\n",
        "    \n",
        "    ```\n",
        "    \n",
        "    - c) 0 1 2 Done"
      ],
      "metadata": {
        "id": "-To_abOtEyWl"
      }
    },
    {
      "cell_type": "code",
      "source": [],
      "metadata": {
        "id": "qwl-mmOiE898"
      },
      "execution_count": null,
      "outputs": []
    }
  ]
}